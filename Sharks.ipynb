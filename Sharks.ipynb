{
 "cells": [
  {
   "cell_type": "markdown",
   "id": "8eb11a19-d605-4fc1-b548-d3758ca332d1",
   "metadata": {},
   "source": [
    "# Objetivo del proyecto: Definir un Business Case"
   ]
  },
  {
   "cell_type": "markdown",
   "id": "b4d050e3-fab7-4600-b958-bd3dd9430205",
   "metadata": {},
   "source": [
    "##### Problem statement: Red Bull nos contactó para organizar un evento extremo para personas que querían nadar con tiburones peligrosos.\n",
    "##### Hipotesis: Organizar el evento con tiburones en Australia \n",
    "##### Idea de negocio: Buceo con tiburones en Argentina"
   ]
  },
  {
   "cell_type": "markdown",
   "id": "06aca55b-227b-46d5-a33d-e0d45781645e",
   "metadata": {},
   "source": [
    "Plan:\n",
    "1. Limpiar datos (5 técnicas de limpieza) y transformar datos (poner en el mismo formato)\n",
    " - Limpiar null values\n",
    " - Quitar duplicados\n",
    " - Manipular strings\n",
    " - Fechas en mismo formato\n",
    " - Preparar dataset para análisis (EDA)\n",
    "\n",
    "2. Redex"
   ]
  },
  {
   "cell_type": "code",
   "execution_count": null,
   "id": "970716b4-4293-4ab9-9ec6-ab950e296c79",
   "metadata": {},
   "outputs": [],
   "source": [
    "import numpy as np\n",
    "import pandas as pd\n",
    "\n",
    "# Para leer un excel hay que instalar pip install xlrd>=2.0.1 desde la terminal e indicar que lea read_excel\n",
    "shark_df = pd.read_excel(\"/Users/sarasalmon/Desktop/IRONHACK/Data_Analytics/Semana_2/QUEST/GSAF5.xls\")\n",
    "shark_df"
   ]
  },
  {
   "cell_type": "markdown",
   "id": "fe2ad8bd-0e4b-4f27-807c-a3cab56f1499",
   "metadata": {},
   "source": [
    "Examine the data and try to understand what the fields mean before proceeding with data cleaning and manipulation."
   ]
  },
  {
   "cell_type": "code",
   "execution_count": null,
   "id": "967aa8df-4830-4702-b608-c51be660407b",
   "metadata": {},
   "outputs": [],
   "source": [
    "shark_df.shape"
   ]
  },
  {
   "cell_type": "code",
   "execution_count": null,
   "id": "5932e593-3c00-496c-9018-ce0c97214610",
   "metadata": {},
   "outputs": [],
   "source": [
    "shark_df.Country.value_counts()"
   ]
  },
  {
   "cell_type": "code",
   "execution_count": null,
   "id": "c0fe8d14-4dc8-42c6-bdfe-840f2e7f4a0d",
   "metadata": {},
   "outputs": [],
   "source": [
    "shark_df.T"
   ]
  },
  {
   "cell_type": "markdown",
   "id": "93e5116c-b261-4e52-b7c4-ff21c1b9c4a9",
   "metadata": {},
   "source": [
    "Una vez tenemos las columnas traspuestas para poder ver la información contenida en cada una de ellas, sacamos las principales conclusiones:\n",
    "\n",
    "- La primera columna (Date), da información del día, mes y año en el que se produjo el ataque de tiburón. Es interesante quedarnos con las épocas del año (quitar día, agrupar meses por primera, verano, otoño e invierno)\n",
    "\n",
    "- La segunda columna (Year), da información del año en el que se produjo el ataque del tiburón. Esta información es redundante con la que da la primera columna. Se puede eliminar.\n",
    "\n",
    "- La tercera columna (Type), da información sobre si el ataque fue provocado o no. La dejamos para tener información sobre la agresividad del tiburón.\n",
    "\n",
    "- La cuarta columna (Country), da información sobre el país en el que ocurrió. La dejaremos para poder entender dónde montar el negocio. Esta columna la eliminaremos, por ser información muy general.\n",
    "\n",
    "- La quinta columna (State) va fuera.\n",
    "\n",
    "- La sexta columna (Location) es con la que trabajaremos para poder entender la recurrencia de los ataques de los tiburones y poder desarrollar el negocio en base a esto.\n",
    "\n",
    "- La septima columna (Activity) es importante para entender qué actividad provoca menos ataques de tiburón.\n",
    "\n",
    "- La octava columna, novena y decima (Name, Sex, Age) van fuera.\n",
    "\n",
    "- La columna 12 (Injury) es importante para entender la agresividad del ataque de tiburón.\n",
    "\n",
    "- La columna 13 la eliminamos, ya que no tiene información.\n",
    "\n",
    "- ** La columna 14 (Time) la dejamos para analizarla y ver si es importante para nuestro negocio.\n",
    "\n",
    "- La columna 15 (Species) es importante para conocer la agresividad del tiburón.\n",
    "\n",
    "- La columna de Source no da información relevante para entender / prevenir los ataques de tiburón, por lo que podría eliminarse también.\n",
    "\n",
    "- Las ultimas 8 columnas (pdf, href formula, href, Case Number, Case Number.1, original order, Unnamedb21 y Unnamed:22 no contienen datos importantes, por lo que sería conveniente eliminarlas."
   ]
  },
  {
   "cell_type": "code",
   "execution_count": null,
   "id": "fed2f91c-1377-4cf6-884d-1c96ea6ef6db",
   "metadata": {},
   "outputs": [],
   "source": [
    "shark_df.info()"
   ]
  },
  {
   "cell_type": "code",
   "execution_count": null,
   "id": "228a52a2-a2f6-43ec-948e-3faddfe83159",
   "metadata": {},
   "outputs": [],
   "source": [
    "shark_df.describe()"
   ]
  },
  {
   "cell_type": "markdown",
   "id": "4587d786-a726-4815-b345-d50dae648444",
   "metadata": {},
   "source": [
    "\n",
    "\n",
    "- La segunda columna (Year)\n",
    "  \n",
    "- La quinta columna (State)\n",
    "\n",
    "- La octava columna, novena y decima (Name, Sex, Age) van fuera.\n",
    "\n",
    "- La columna 13 la eliminamos, ya que no tiene información.\n",
    "\n",
    "- Las ultimas 8 columnas (pdf, href formula, href, Case Number, Case Number.1, original order, Unnamedb21 y Unnamed:22 no contienen datos importantes, por lo que sería conveniente eliminarlas."
   ]
  },
  {
   "cell_type": "code",
   "execution_count": null,
   "id": "e6e4feab-04ff-4c18-a8d1-9f61aff4a916",
   "metadata": {},
   "outputs": [],
   "source": [
    "shark_df.info()"
   ]
  },
  {
   "cell_type": "code",
   "execution_count": null,
   "id": "a99d3f87-2bd3-4f06-b743-c726754288a5",
   "metadata": {},
   "outputs": [],
   "source": [
    "shark_clean_1_df= shark_df.drop(columns = [\"Year\",\"State\",\"Name\",\"Sex\",\"Age\",\"Unnamed: 11\",\"Time\",\"Source\",\"pdf\",\"href formula\",\"href\",\"Case Number\",\"Case Number.1\",\"original order\", \"Unnamed: 21\",\"Unnamed: 22\"])"
   ]
  },
  {
   "cell_type": "code",
   "execution_count": null,
   "id": "7a6349e3-b4e2-4be4-a4a4-36fa9c53e673",
   "metadata": {},
   "outputs": [],
   "source": [
    "shark_clean_1_df"
   ]
  },
  {
   "cell_type": "code",
   "execution_count": null,
   "id": "a521304a-69dc-4c95-bbc4-fc7f281260ab",
   "metadata": {
    "scrolled": true
   },
   "outputs": [],
   "source": [
    "shark_clean_1_df.value_counts(\"Type\")"
   ]
  },
  {
   "cell_type": "code",
   "execution_count": null,
   "id": "1057aa44-be10-42b2-b13a-8ca6bc1b3578",
   "metadata": {},
   "outputs": [],
   "source": [
    "# Primero copiamos todo el dataframe\n",
    "shark_2_df = shark_clean_1_df.copy()\n",
    "\n",
    "# Limpiamos los espacios de los titulos y los ponemos en mayusculas\n",
    "shark_2_df.columns = [column.lower().replace(\" \",\"\") for column in shark_clean_1_df.columns]\n",
    "shark_2_df"
   ]
  },
  {
   "cell_type": "markdown",
   "id": "b8776504-5731-425d-8303-03b8259e7707",
   "metadata": {},
   "source": [
    "# Cleaning Column Names"
   ]
  },
  {
   "cell_type": "markdown",
   "id": "75cd2a94-5b36-48ad-893c-f135270dba35",
   "metadata": {},
   "source": [
    "To ensure consistency and ease of use, standardize the column names of the dataframe. "
   ]
  },
  {
   "cell_type": "code",
   "execution_count": null,
   "id": "d1caa567-faf8-445d-8e46-dae8074c59cf",
   "metadata": {},
   "outputs": [],
   "source": [
    "shark_2_df[\"country\"].nunique()"
   ]
  },
  {
   "cell_type": "code",
   "execution_count": null,
   "id": "6352c3b2-c6fa-424b-8d48-659027e48103",
   "metadata": {},
   "outputs": [],
   "source": [
    "shark_2_df['country'] = shark_2_df['country'].str.lower().str.strip()\n",
    "shark_2_df[\"country\"].nunique()"
   ]
  },
  {
   "cell_type": "code",
   "execution_count": null,
   "id": "61634e4c-8367-4244-a6aa-e56084387b49",
   "metadata": {},
   "outputs": [],
   "source": [
    "shark_2_df[\"country\"].unique()"
   ]
  },
  {
   "cell_type": "code",
   "execution_count": null,
   "id": "818755fa-3532-41b7-8775-021e43bba36c",
   "metadata": {},
   "outputs": [],
   "source": [
    "countries_dictionary = {\n",
    "    'usa': 'united states',\n",
    "    'america': 'united states',\n",
    "    'mexico': 'mexico',\n",
    "    'belize': 'belize',\n",
    "    'australia': 'australia',\n",
    "    'au': 'australia',\n",
    "    'maldives': 'maldives',\n",
    "    'maldiveislands': 'maldives',\n",
    "    'turksandcaicos': 'turks and caicos',\n",
    "    'turks&caicos': 'turks and caicos',\n",
    "    'turksandcaicos': 'turks and caicos',\n",
    "    'turksandcaicos': 'turks and caicos',\n",
    "    'frenchpolynesia': 'french polynesia',\n",
    "    'french polynesia': 'french polynesia',\n",
    "    'southafrica': 'south africa',\n",
    "    'south africa': 'south africa',\n",
    "    'newzealand': 'new zealand',\n",
    "    'new zealand': 'new zealand',\n",
    "    'trinidad': 'trinidad and tobago',\n",
    "    'trinidad&tobago': 'trinidad and tobago',\n",
    "    'tobago': 'trinidad and tobago',\n",
    "    'bahamas': 'bahamas',\n",
    "    'columbia': 'colombia',\n",
    "    'costa rica': 'costa rica',\n",
    "    'jamaica': 'jamaica',\n",
    "    'ecuador': 'ecuador',\n",
    "    'spain': 'spain',\n",
    "    'portugal': 'portugal',\n",
    "    'samoa': 'samoa',\n",
    "    'colombia': 'colombia',\n",
    "    'fiji': 'fiji',\n",
    "    'coralsea': 'coral sea',\n",
    "    'philippines': 'philippines',\n",
    "    'brazil': 'brazil',\n",
    "    'seychelles': 'seychelles',\n",
    "    'argentina': 'argentina',\n",
    "    'england': 'united kingdom',\n",
    "    'uk': 'united kingdom',\n",
    "    'unitedkingdom': 'united kingdom',\n",
    "    'newcaledonia': 'new caledonia',\n",
    "    'malaysia': 'malaysia',\n",
    "    'france': 'france',\n",
    "    'egypt': 'egypt',\n",
    "    'thailand': 'thailand',\n",
    "    'indonesia': 'indonesia',\n",
    "    'china': 'china',\n",
    "    'italy': 'italy',\n",
    "    'japan': 'japan',\n",
    "    'canada': 'canada',\n",
    "    'jordan': 'jordan',\n",
    "    'st kitts/nevis': 'st kitts and nevis',\n",
    "    'stkitts/nevis': 'st kitts and nevis',\n",
    "    'stmartin': 'st martin',\n",
    "    'st.maarten': 'st martin',\n",
    "    'papuanewguinea': 'papua new guinea',\n",
    "    'reunion': 'reunion',\n",
    "    'reunionisland': 'reunion',\n",
    "    'israel': 'israel',\n",
    "    'india': 'india',\n",
    "    'italy/croatia': 'italy',\n",
    "    'sthelena,britishoverseasterritory': 'st helena',\n",
    "    'britishoverseasterritory': 'united kingdom',\n",
    "    'scotland': 'united kingdom',\n",
    "    'wales': 'united kingdom',\n",
    "    'northernireland': 'united kingdom',\n",
    "    'dominicanrepublic': 'dominican republic',\n",
    "    'puertorico': 'puerto rico',\n",
    "    'jamaica': 'jamaica',\n",
    "    'falklandislands': 'falkland islands',\n",
    "    'marshallislands': 'marshall islands',\n",
    "    'marshall': 'marshall islands',\n",
    "    'solomonislands': 'solomon islands',\n",
    "    'britishvirginislands': 'british virgin islands',\n",
    "    'virginislands': 'british virgin islands',\n",
    "    'bvi': 'british virgin islands',\n",
    "    'caymanislands': 'cayman islands',\n",
    "    'grandcayman': 'cayman islands',\n",
    "    'american samoa': 'american samoa',\n",
    "    'micronesia': 'micronesia',\n",
    "    'srilanka': 'sri lanka',\n",
    "    'ceylon': 'sri lanka',\n",
    "    'south korea': 'south korea',\n",
    "    'southkorea': 'south korea',\n",
    "    'north korea': 'north korea',\n",
    "    'northkorea': 'north korea',\n",
    "    'malta': 'malta',\n",
    "    'vietnam': 'vietnam',\n",
    "    'madagascar': 'madagascar',\n",
    "    'panama': 'panama',\n",
    "    'somalia': 'somalia',\n",
    "    'libya': 'libya',\n",
    "    'iran': 'iran',\n",
    "    'iraq': 'iraq',\n",
    "    'iran/iraq': 'iran',\n",
    "    'nigeria': 'nigeria',\n",
    "    'greece': 'greece',\n",
    "    'portugal': 'portugal',\n",
    "    'chile': 'chile',\n",
    "    'peru': 'peru',\n",
    "    'kenya': 'kenya',\n",
    "    'russia': 'russia',\n",
    "    'venezuela': 'venezuela',\n",
    "    'uruguay': 'uruguay',\n",
    "    'guam': 'guam',\n",
    "    'ghana': 'ghana',\n",
    "    'djibouti': 'djibouti',\n",
    "    'sudan': 'sudan',\n",
    "    'sudan?': 'sudan',\n",
    "    'bangladesh': 'bangladesh',\n",
    "    'new britain': 'new britain',\n",
    "    'pacificocean': 'pacific ocean',\n",
    "    'southpacificocean': 'south pacific ocean',\n",
    "    'northpacificocean': 'north pacific ocean',\n",
    "    'indianocean': 'indian ocean',\n",
    "    'redsea': 'red sea',\n",
    "    'mediterraneansea': 'mediterranean sea',\n",
    "    'caribbeansea': 'caribbean sea',\n",
    "    'gulf of aden': 'gulf of aden',\n",
    "    'persiangulf': 'persian gulf',\n",
    "    'northatlantic': 'north atlantic ocean',\n",
    "    'midatlantic': 'mid atlantic ocean',\n",
    "    'northsea': 'north sea',\n",
    "    'tasmansea': 'tasman sea',\n",
    "    'englishchannel': 'english channel',\n",
    "    'persiangulf': 'persian gulf',\n",
    "    'antarctica': 'antarctica',\n",
    "    'cyprus': 'cyprus',\n",
    "    'mauritius': 'mauritius',\n",
    "    'mongolia': 'mongolia',\n",
    "    'jordan': 'jordan',\n",
    "    'kuwait': 'kuwait',\n",
    "    'new guinea': 'new guinea',\n",
    "    'algeria': 'algeria',\n",
    "    'yemen': 'yemen',\n",
    "    'singapore': 'singapore',\n",
    "    'kuwait': 'kuwait',\n",
    "    'burma': 'myanmar',\n",
    "    'myanmar': 'myanmar',\n",
    "    'britishwestindies': 'british west indies',\n",
    "    'cuba': 'cuba',\n",
    "    'pakistan': 'pakistan',\n",
    "    'sweden': 'sweden',\n",
    "    'norway': 'norway',\n",
    "    'ireland': 'ireland',\n",
    "    'britishisles': 'united kingdom',\n",
    "    'kyrgyzstan': 'kyrgyzstan',\n",
    "    'taiwan': 'taiwan',\n",
    "    'lebanon': 'lebanon',\n",
    "    'georgia': 'georgia',\n",
    "    'croatia': 'croatia',\n",
    "    'slovenia': 'slovenia',\n",
    "    'serbia': 'serbia',\n",
    "    'north macedonia': 'north macedonia',\n",
    "    'comoros': 'comoros',\n",
    "    'vanuatu': 'vanuatu',\n",
    "    'guatemala': 'guatemala',\n",
    "    'honduras': 'honduras',\n",
    "    'philippines': 'philippines',\n",
    "    'mid-pacificocean': 'mid-pacific ocean',\n",
    "    'israel': 'israel',\n",
    "    'hongkong': 'hong kong',\n",
    "    'taiwan': 'taiwan',\n",
    "    'china': 'china',\n",
    "    'liberia': 'liberia',\n",
    "    'gabon': 'gabon',\n",
    "    'gambia': 'gambia',\n",
    "    'singapore': 'singapore',\n",
    "    'burma': 'myanmar',\n",
    "    'macao': 'macao',\n",
    "    'cayman islands': 'cayman islands',\n",
    "    'morocco': 'morocco',\n",
    "    'jamaica': 'jamaica',\n",
    "    'belize': 'belize',\n",
    "    'australia': 'australia',\n",
    "    'usa': 'united states',\n",
    "    'america': 'united states',\n",
    "    'maldiveislands': 'maldives',\n",
    "    'maldives': 'maldives',\n",
    "    'turksandcaicos': 'turks and caicos',\n",
    "    'turks&caicos': 'turks and caicos',\n",
    "    'frenchpolynesia': 'french polynesia',\n",
    "    'french polynesia': 'french polynesia',\n",
    "    'tobago': 'trinidad and tobago',\n",
    "    'trinidad': 'trinidad and tobago',\n",
    "    'trinidad&tobago': 'trinidad and tobago',\n",
    "    'bahamas': 'bahamas',\n",
    "    'india': 'india',\n",
    "    'southafrica': 'south africa',\n",
    "    'south africa': 'south africa',\n",
    "    'mexico': 'mexico',\n",
    "    'newzealand': 'new zealand',\n",
    "    'new zealand': 'new zealand',\n",
    "    'egypt': 'egypt',\n",
    "    'philippines': 'philippines',\n",
    "    'coralsea': 'coral sea',\n",
    "    'spain': 'spain',\n",
    "    'portugal': 'portugal',\n",
    "    'samoa': 'samoa',\n",
    "    'colombia': 'colombia',\n",
    "    'columbia': 'colombia',\n",
    "    'ecuador': 'ecuador',\n",
    "    'newcaledonia': 'new caledonia',\n",
    "    'cuba': 'cuba',\n",
    "    'brazil': 'brazil',\n",
    "    'seychelles': 'seychelles',\n",
    "    'argentina': 'argentina',\n",
    "    'fiji': 'fiji',\n",
    "    'england': 'united kingdom',\n",
    "    'uk': 'united kingdom',\n",
    "    'unitedkingdom': 'united kingdom',\n",
    "    'japan': 'japan',\n",
    "    'indonesia': 'indonesia',\n",
    "    'thailand': 'thailand',\n",
    "    'costarica': 'costa rica',\n",
    "    'costa rica': 'costa rica',\n",
    "    'britishoverseasterritory': 'united kingdom',\n",
    "    'stkitts/nevis': 'st kitts and nevis',\n",
    "    'stmartin': 'st martin',\n",
    "    'st.maarten': 'st martin',\n",
    "    'papuanewguinea': 'papua new guinea',\n",
    "    'reunionisland': 'reunion',\n",
    "    'reunion': 'reunion',\n",
    "    'israel': 'israel',\n",
    "    'china': 'china',\n",
    "    'ireland': 'ireland',\n",
    "    'italy': 'italy',\n",
    "    'italy/croatia': 'italy',\n",
    "    'malaysia': 'malaysia',\n",
    "    'libya': 'libya',\n",
    "    'mauritius': 'mauritius',\n",
    "    'solomonislands': 'solomon islands',\n",
    "    'solomon islands': 'solomon islands',\n",
    "    'sthelena,britishoverseasterritory': 'st helena',\n",
    "    'comoros': 'comoros',\n",
    "    'unitedarabemirates': 'united arab emirates',\n",
    "    'unitedarabemirates(uae)': 'united arab emirates',\n",
    "    'uae': 'united arab emirates',\n",
    "    'capeverde': 'cape verde',\n",
    "    'dominicanrepublic': 'dominican republic',\n",
    "    'puertorico': 'puerto rico',\n",
    "    'caymanislands': 'cayman islands',\n",
    "    'grandcayman': 'cayman islands',\n",
    "    'aruba': 'aruba',\n",
    "    'mozambique': 'mozambique',\n",
    "    'atlanticocean': 'atlantic ocean',\n",
    "    'greece': 'greece',\n",
    "    'st.martin': 'st martin',\n",
    "    'france': 'france',\n",
    "    'kiribati': 'kiribati',\n",
    "    'diegogarcia': 'diego garcia',\n",
    "    'taiwan': 'taiwan',\n",
    "    'palestinianterritories': 'palestinian territories',\n",
    "    'guam': 'guam',\n",
    "    'nigeria': 'nigeria',\n",
    "    'tonga': 'tonga',\n",
    "    'scotland': 'united kingdom',\n",
    "    'croatia': 'croatia',\n",
    "    'saudiarabia': 'saudi arabia',\n",
    "    'chile': 'chile',\n",
    "    'antigua': 'antigua and barbuda',\n",
    "    'kenya': 'kenya',\n",
    "    'russia': 'russia',\n",
    "    'azores': 'azores',\n",
    "    'southkorea': 'south korea',\n",
    "    'malta': 'malta',\n",
    "    'vietnam': 'vietnam'}"
   ]
  },
  {
   "cell_type": "code",
   "execution_count": null,
   "id": "f4918e05-e853-4a8e-b478-b7262126c9e9",
   "metadata": {},
   "outputs": [],
   "source": [
    "shark_3_df = shark_2_df.copy()\n",
    "shark_3_df['country'] = shark_3_df['country'].replace(countries_dictionary)\n",
    "\n",
    "# Mostrar el DataFrame limpio\n",
    "print(shark_3_df['country'].nunique())"
   ]
  },
  {
   "cell_type": "code",
   "execution_count": null,
   "id": "b0bc4ce2-50d2-498d-9192-072039fbd751",
   "metadata": {},
   "outputs": [],
   "source": [
    "# Primero miramos los valores nulos \n",
    "shark_3_df.isnull().sum()"
   ]
  },
  {
   "cell_type": "code",
   "execution_count": null,
   "id": "a380eb26-c3e5-43cc-bd14-f89dee03ab4c",
   "metadata": {},
   "outputs": [],
   "source": [
    "shark_3_df.shape"
   ]
  },
  {
   "cell_type": "code",
   "execution_count": null,
   "id": "a012d344-13f7-4602-92dd-2e8726440f8e",
   "metadata": {},
   "outputs": [],
   "source": [
    "shark_3_df.info()"
   ]
  },
  {
   "cell_type": "code",
   "execution_count": null,
   "id": "f385c975-32a4-4b3f-9285-1c5b968b85b5",
   "metadata": {},
   "outputs": [],
   "source": [
    "shark_3_df"
   ]
  },
  {
   "cell_type": "code",
   "execution_count": null,
   "id": "fcdcc98d-3333-4bd2-a18e-118b7ba6be9c",
   "metadata": {},
   "outputs": [],
   "source": [
    "shark_4_df=shark_3_df.copy()\n",
    "shark_4_df=shark_4_df.dropna(how=\"all\")"
   ]
  },
  {
   "cell_type": "code",
   "execution_count": null,
   "id": "67c323c2-081f-40c9-8f33-2fae5e63cafe",
   "metadata": {},
   "outputs": [],
   "source": [
    "shark_4_df"
   ]
  },
  {
   "cell_type": "code",
   "execution_count": null,
   "id": "67e50148-db24-4ef5-b171-d74997024537",
   "metadata": {},
   "outputs": [],
   "source": [
    "shark_4_df[\"type\"].unique()"
   ]
  },
  {
   "cell_type": "code",
   "execution_count": null,
   "id": "93fa0718-5e0a-4e2c-b64a-82b69521dc13",
   "metadata": {},
   "outputs": [],
   "source": [
    "types_dictionary = {'Unprovoked':'Unprovoked',\n",
    "                    ' Provoked':'Provoked',\n",
    "                    'Provoked': 'Provoked',\n",
    "                    'Questionable': 'Nan',\n",
    "                    'Watercraft': 'Watercraft',\n",
    "                    'Sea Disaster':'Nan',\n",
    "                    'nan':'Nan',\n",
    "                    '?':'Nan',\n",
    "                    'Unconfirmed':'Nan',\n",
    "                    'Unverified': 'Nan',\n",
    "                    'Invalid': 'Nan',\n",
    "                    'Under investigation':'Nan',\n",
    "                    'Boat':'Watercraft'}"
   ]
  },
  {
   "cell_type": "code",
   "execution_count": null,
   "id": "8a77cddb-ccb6-4376-8862-fbfb766ee9ea",
   "metadata": {},
   "outputs": [],
   "source": [
    "shark_4_df"
   ]
  },
  {
   "cell_type": "code",
   "execution_count": null,
   "id": "99c656a9-1450-4197-9c70-e932c03d62b1",
   "metadata": {},
   "outputs": [],
   "source": [
    "# Cuando son strings se saca la moda (en vez de la media) y con la moda se reemplazan los vacíos\n",
    "\n",
    "# Para type\n",
    "#mode_type = shark_4_df[\"type\"].mode()\n",
    "\n",
    "# Limpiamos la columna\n",
    "shark_4_df[\"type\"]= shark_4_df[\"type\"].replace(types_dictionary)\n",
    "shark_4_df"
   ]
  },
  {
   "cell_type": "code",
   "execution_count": null,
   "id": "a4c1c8de-1739-406f-a1a5-5964cac10929",
   "metadata": {},
   "outputs": [],
   "source": [
    "# Reemplazamos los Nan por la moda\n",
    "mode_type=shark_4_df[\"type\"].mode()\n",
    "mode_type"
   ]
  },
  {
   "cell_type": "code",
   "execution_count": null,
   "id": "b3e6c1cb-f2a7-4393-8118-31d36f0f3932",
   "metadata": {},
   "outputs": [],
   "source": [
    "shark_4_df[\"type\"]= shark_4_df[\"type\"].fillna(\"Unprovoked\")\n",
    "shark_4_df"
   ]
  },
  {
   "cell_type": "code",
   "execution_count": null,
   "id": "d11ebadf-2381-4dea-91a2-4152aa8e8d40",
   "metadata": {},
   "outputs": [],
   "source": [
    "shark_4_df.isnull().sum()"
   ]
  },
  {
   "cell_type": "code",
   "execution_count": null,
   "id": "05919810-1709-4a92-8920-aa6a4a37b6fd",
   "metadata": {},
   "outputs": [],
   "source": [
    "shark_4_df[\"type\"].isnull().sum()"
   ]
  },
  {
   "cell_type": "code",
   "execution_count": null,
   "id": "4edd88f0-874f-4b7d-92f8-1f9685997746",
   "metadata": {},
   "outputs": [],
   "source": [
    "# Decidimos eliminar todas las filas que contengan valores nulos en la columna \"localización\"\n",
    "shark_5_df= shark_4_df.copy()\n",
    "shark_5_df=shark_5_df.dropna(subset=[\"location\"])"
   ]
  },
  {
   "cell_type": "code",
   "execution_count": null,
   "id": "5e02c9f0-efd1-41f5-acfe-8793cd1fb986",
   "metadata": {},
   "outputs": [],
   "source": [
    "shark_5_df.isnull().sum()"
   ]
  },
  {
   "cell_type": "code",
   "execution_count": null,
   "id": "e09571f6-c07f-45ab-872b-a6dae0acf2df",
   "metadata": {},
   "outputs": [],
   "source": [
    "shark_5_df"
   ]
  },
  {
   "cell_type": "code",
   "execution_count": null,
   "id": "e0b55bf8-fc7d-4340-9aac-9b28d576da81",
   "metadata": {},
   "outputs": [],
   "source": [
    "# en el caso de las especies de tiburón, hacemos la moda porque queremos ver en cada lugar el tiburón que ataca con más frecuencia\n",
    "mode_species=shark_5_df[\"species\"].mode()\n",
    "mode_species"
   ]
  },
  {
   "cell_type": "code",
   "execution_count": null,
   "id": "f1fcb399-67b8-4de2-b3b0-41a0ed51b0e1",
   "metadata": {},
   "outputs": [],
   "source": [
    "shark_5_df[\"species\"]= shark_4_df[\"species\"].fillna(\"White shark\")\n",
    "shark_5_df"
   ]
  },
  {
   "cell_type": "code",
   "execution_count": null,
   "id": "0689879e-8e3d-4180-b206-dfe7bd1aa4ab",
   "metadata": {},
   "outputs": [],
   "source": [
    "shark_5_df.isnull().sum()"
   ]
  },
  {
   "cell_type": "code",
   "execution_count": null,
   "id": "3ff7cdd2-3a90-4207-93ec-3c0e6dc70d7e",
   "metadata": {},
   "outputs": [],
   "source": [
    "# Sacamos la moda de la actividad, para saber cuál es la actividad más peligrosa\n",
    "mode_activity=shark_5_df[\"activity\"].mode()\n",
    "mode_activity"
   ]
  },
  {
   "cell_type": "code",
   "execution_count": null,
   "id": "e4a30d9c-125a-44a4-befe-abb0e8fec536",
   "metadata": {},
   "outputs": [],
   "source": [
    "# Borramos las filas que tengan actividad Nan, ya que la cantidad de valores nulos de actividad dentro del total de filas\n",
    "# No es muy significativo\n",
    "shark_5_df=shark_5_df.dropna(subset=[\"activity\"])\n",
    "shark_5_df.isnull().sum()"
   ]
  },
  {
   "cell_type": "code",
   "execution_count": null,
   "id": "3174d18e-7c54-4683-8f84-d909a6ee31e1",
   "metadata": {},
   "outputs": [],
   "source": [
    "shark_5_df=shark_5_df.dropna(subset=[\"country\"])\n",
    "shark_5_df.isnull().sum()"
   ]
  },
  {
   "cell_type": "code",
   "execution_count": null,
   "id": "ae5bf99a-7ab4-4008-b263-53e7771377e4",
   "metadata": {},
   "outputs": [],
   "source": [
    "shark_5_df=shark_5_df.dropna(subset=[\"injury\"])\n",
    "shark_5_df.isnull().sum()"
   ]
  },
  {
   "cell_type": "code",
   "execution_count": null,
   "id": "7a6b152d-f307-43eb-b564-ef46905e4820",
   "metadata": {},
   "outputs": [],
   "source": [
    "shark_5_df"
   ]
  },
  {
   "cell_type": "code",
   "execution_count": null,
   "id": "78effbba-7857-46d0-9aed-855e33739e00",
   "metadata": {},
   "outputs": [],
   "source": [
    "shark_6_df=shark_5_df.copy()"
   ]
  },
  {
   "cell_type": "code",
   "execution_count": null,
   "id": "a6458e5e-9568-4dcf-a216-e00dbafd84a9",
   "metadata": {},
   "outputs": [],
   "source": [
    "pd.set_option('display.max_rows', None)\n",
    "shark_6_df"
   ]
  },
  {
   "cell_type": "markdown",
   "id": "09e59bde-96a7-48e3-93e3-4e9a05df6dd8",
   "metadata": {},
   "source": [
    "shark_6_df[\"mes\"]=shark_6_df[\"date\"].apply(lambda x: x.split('-')[1] if len(x.split(\"-\"))>1 else \"sin_mes\")"
   ]
  },
  {
   "cell_type": "code",
   "execution_count": null,
   "id": "b43dde46-032a-4d89-98c3-b9493b936b99",
   "metadata": {},
   "outputs": [],
   "source": [
    "# queremos ver LOS ATAQUES por cada país y año?\n",
    "# pivot_df = df.pivot_table(index='country', columns='year', values=['GDP'])\n",
    "# pivot_df.head(10)"
   ]
  },
  {
   "cell_type": "code",
   "execution_count": null,
   "id": "41c8b680-98f5-490a-bada-005ef58e526c",
   "metadata": {},
   "outputs": [],
   "source": [
    "shark_6_df[\"date\"]=shark_6_df[\"date\"].astype(str)"
   ]
  },
  {
   "cell_type": "code",
   "execution_count": null,
   "id": "2b775afd-f441-4005-b07a-4e5693544633",
   "metadata": {},
   "outputs": [],
   "source": [
    "shark_7_df = shark_6_df.copy()\n",
    "shark_7_df['clean_date'] = shark_7_df['date'].str.replace(r'^[^\\d]+', '', regex=True)"
   ]
  },
  {
   "cell_type": "code",
   "execution_count": null,
   "id": "c0fd4b54-fdb7-4364-9a2e-97e80fac318d",
   "metadata": {
    "scrolled": true
   },
   "outputs": [],
   "source": [
    "shark_7_df"
   ]
  },
  {
   "cell_type": "code",
   "execution_count": null,
   "id": "8eac0345-c646-4104-bded-8664e4937bc3",
   "metadata": {
    "scrolled": true
   },
   "outputs": [],
   "source": [
    "shark_8_df=shark_7_df.copy()\n",
    "shark_8_df"
   ]
  },
  {
   "cell_type": "code",
   "execution_count": null,
   "id": "99fed84f-e994-4595-80cd-b3614e03eb43",
   "metadata": {},
   "outputs": [],
   "source": [
    "shark_8_df['clean_date'] = shark_8_df['clean_date'].str.replace(r'\\s*\\d{2}:\\d{2}:\\d{2}', '', regex=True)"
   ]
  },
  {
   "cell_type": "code",
   "execution_count": null,
   "id": "53e2e1c1-f738-4122-b316-c0ce738fa190",
   "metadata": {
    "scrolled": true
   },
   "outputs": [],
   "source": [
    "shark_8_df"
   ]
  },
  {
   "cell_type": "code",
   "execution_count": null,
   "id": "d986251d-9f8c-4009-809c-2866f85341f6",
   "metadata": {},
   "outputs": [],
   "source": [
    "shark_9_df=shark_8_df.copy()"
   ]
  },
  {
   "cell_type": "code",
   "execution_count": null,
   "id": "d2b5147b-46e1-4dcd-b8c2-fca2c966b8ce",
   "metadata": {
    "scrolled": true
   },
   "outputs": [],
   "source": [
    "shark_9_df"
   ]
  },
  {
   "cell_type": "code",
   "execution_count": null,
   "id": "e2ca939e-c007-46fa-93cb-b92b83a23bc0",
   "metadata": {},
   "outputs": [],
   "source": [
    "def fechas(element):\n",
    "    # Verifica si el elemento es una cadena de texto\n",
    "    if isinstance(element, str):\n",
    "        # Si el elemento contiene \"-\", lo divide por el guion\n",
    "        if \"-\" in element:\n",
    "            return element.split(\"-\")\n",
    "        # Si no, lo divide por espacios\n",
    "        else:\n",
    "            return element.split(\" \")\n",
    "    # Si el elemento no es una cadena (ya es lista), lo retorna tal cual\n",
    "    return element"
   ]
  },
  {
   "cell_type": "code",
   "execution_count": null,
   "id": "7ad21a38-6223-4d15-8b85-39d7f83ec3b2",
   "metadata": {},
   "outputs": [],
   "source": [
    "shark_9_df[\"clean_date\"] = shark_9_df[\"clean_date\"].apply(fechas)\n",
    "shark_9_df"
   ]
  },
  {
   "cell_type": "code",
   "execution_count": null,
   "id": "a4f6d1cb-4cde-43cb-bf42-440e614587a6",
   "metadata": {},
   "outputs": [],
   "source": [
    "shark_10_df=shark_9_df.copy()\n",
    "shark_10_df[\"clean_date\"]= shark_10_df[\"clean_date\"]"
   ]
  },
  {
   "cell_type": "code",
   "execution_count": null,
   "id": "4a43b583-2ce8-437b-8543-baa7670a3948",
   "metadata": {},
   "outputs": [],
   "source": [
    "shark_10_df['clean_date'] = shark_10_df['clean_date'].apply(lambda x: x[:-1] if isinstance(x, list) and len(x) == 3 else x)\n",
    "shark_10_df"
   ]
  },
  {
   "cell_type": "code",
   "execution_count": null,
   "id": "20828032-75a0-4a8e-b7c6-1b2af3f2d2f3",
   "metadata": {},
   "outputs": [],
   "source": [
    "shark_11_df=shark_10_df.copy()\n",
    "shark_11_df['clean_date'] = shark_11_df['clean_date'].apply(lambda x: x[0:-1] if isinstance(x, list) and len(x) == 4 else x)"
   ]
  },
  {
   "cell_type": "code",
   "execution_count": null,
   "id": "9a0bc397-b17a-42e4-aaa9-08bb7b6c5ace",
   "metadata": {},
   "outputs": [],
   "source": [
    "shark_11_df"
   ]
  },
  {
   "cell_type": "code",
   "execution_count": null,
   "id": "a950b9dd-5410-44d7-8ef9-a76abe110ab7",
   "metadata": {},
   "outputs": [],
   "source": [
    "def años(element1,element2):\n",
    "    año1=[]\n",
    "    año2=[]\n",
    "    for element1,element2 in column:\n",
    "        for i in element1,element2:\n",
    "            año.append(i)\n",
    "\n",
    "shark_11_df['clean_date'] = shark_11_df['clean_date'].apply(años)"
   ]
  },
  {
   "cell_type": "code",
   "execution_count": null,
   "id": "fe1ad793-da06-42ca-ac4a-186530ec27d1",
   "metadata": {},
   "outputs": [],
   "source": [
    "shark_11_df['xisca_mes'] = shark_11_df['date'].apply(lambda x: x.split(\"-\")[1] if len(x.split(\"-\"))>1 else \"sin_mes\")\n",
    "shark_11_df['xisca_mes'].value_counts()"
   ]
  },
  {
   "cell_type": "code",
   "execution_count": null,
   "id": "e4e9d270-3c8b-446e-bd56-ea2674f95cdd",
   "metadata": {},
   "outputs": [],
   "source": [
    "len(shark_11_df[shark_11_df.xisca_mes.isin([\"Jul\",\"Aug\",\"Sep\",\"Jan\",\"Feb\",\"Mar\",\"Apr\",\"May\",\"Jun\",\"Oct\",\"Nov\",\"Dec\"])])/len(shark_11_df)*100"
   ]
  },
  {
   "cell_type": "code",
   "execution_count": null,
   "id": "55e3f265-0c24-4af5-8621-1a4bb30a9a06",
   "metadata": {},
   "outputs": [],
   "source": [
    "shark_11_df['xisca_mes2'] = shark_11_df['clean_date'].apply(lambda x: x[1] if len(x)>1 else \"sin_mes\")\n",
    "shark_11_df['xisca_mes2'].value_counts()"
   ]
  },
  {
   "cell_type": "code",
   "execution_count": null,
   "id": "20fc385b-cede-42e5-8790-19001e32ebd5",
   "metadata": {},
   "outputs": [],
   "source": [
    "shark_12_df = shark_11_df[shark_11_df.xisca_mes.isin([\"Jul\",\"Aug\",\"Sep\",\"Jan\",\"Feb\",\"Mar\",\"Apr\",\"May\",\"Jun\",\"Oct\",\"Nov\",\"Dec\"])]\n",
    "shark_12_df()"
   ]
  },
  {
   "cell_type": "code",
   "execution_count": null,
   "id": "54191519-3b34-4c70-ad89-dfd21f4fda2e",
   "metadata": {},
   "outputs": [],
   "source": [
    "shark_13_df= shark_12_df.drop(columns=[\"date\"])\n",
    "shark_13_df"
   ]
  },
  {
   "cell_type": "code",
   "execution_count": null,
   "id": "f36ac3aa-8bca-4d5a-8415-6fcd75770adf",
   "metadata": {},
   "outputs": [],
   "source": [
    "shark_13_df"
   ]
  },
  {
   "cell_type": "code",
   "execution_count": null,
   "id": "09c40683-012f-4161-ade8-bcff2114b689",
   "metadata": {},
   "outputs": [],
   "source": [
    "shark_13_df=shark_13_df.rename(columns={\"xisca_mes\":\"months\"})"
   ]
  },
  {
   "cell_type": "code",
   "execution_count": null,
   "id": "811df172-bf5b-4bfe-88f6-5e2e63ec510d",
   "metadata": {},
   "outputs": [],
   "source": [
    "shark_13_df"
   ]
  },
  {
   "cell_type": "code",
   "execution_count": null,
   "id": "e50acc7f-87be-44c1-84ee-b8caad01dbcf",
   "metadata": {
    "scrolled": true
   },
   "outputs": [],
   "source": [
    "def get_season(month):\n",
    "    if month in [\"Dec\", \"Jan\", \"Feb\"]:\n",
    "        return 'Winter'\n",
    "    elif month in [\"Mar\", \"Apr\", \"May\"]:\n",
    "        return 'Spring'\n",
    "    elif month in [\"Jun\", \"Jul\", \"Aug\"]:\n",
    "        return 'Summer'\n",
    "    elif month in [\"Sep\", \"Oct\", \"Nov\"]:\n",
    "        return 'Autumun'\n",
    "shark_13_df['seasons'] = shark_13_df['months'].apply(get_season)\n",
    "shark_13_df"
   ]
  },
  {
   "cell_type": "code",
   "execution_count": null,
   "id": "a372a849-f2be-4f2c-ad91-2b6e27991999",
   "metadata": {},
   "outputs": [],
   "source": [
    "shark_attacks_country = shark_13_df.groupby(['country', 'seasons']).agg({ 'ataques de tiburones': 'sum', 'fatalidad del ataque': 'sum' }).reset_index()"
   ]
  },
  {
   "cell_type": "code",
   "execution_count": null,
   "id": "140ba437-4b23-4ca9-a3a8-5b521491d762",
   "metadata": {},
   "outputs": [],
   "source": [
    "#Queremos encontrar el numero de ataques en cada pais por estación\n",
    "attacks=len(shark_13_df)\n",
    "attacks"
   ]
  },
  {
   "cell_type": "code",
   "execution_count": null,
   "id": "944929dd-5759-4f3f-be25-5950d56fdf2f",
   "metadata": {
    "scrolled": true
   },
   "outputs": [],
   "source": [
    "shark_13_df[\"attacks\"]=1\n",
    "shark_13_df"
   ]
  },
  {
   "cell_type": "code",
   "execution_count": null,
   "id": "b41987da-dba9-4bf7-9278-73f97b161afc",
   "metadata": {
    "scrolled": true
   },
   "outputs": [],
   "source": [
    "df_attacks_general= round(shark_13_df.groupby(by=[\"country\",\"seasons\"])[\"attacks\"].sum().reset_index())\n",
    "df_attacks"
   ]
  },
  {
   "cell_type": "code",
   "execution_count": null,
   "id": "b6107e8f-0ff9-49d4-a9b1-e9b785531c96",
   "metadata": {
    "scrolled": true
   },
   "outputs": [],
   "source": [
    "# Representar maximos y minimos \n",
    "# Calculamos maximos y minimos de los ataques en función del país y de la estación\n",
    "df_attacks_statistics = round(shark_13_df.groupby(by=[\"country\"])[\"attacks\"].agg([\"max\", \"min\", \"mean\"]))\n",
    "df_attacks_statistics"
   ]
  },
  {
   "cell_type": "code",
   "execution_count": null,
   "id": "196cf2fa-7e21-4c9e-a014-49c3f2687da0",
   "metadata": {},
   "outputs": [],
   "source": [
    "import matplotlib.pyplot as plt\n",
    "import seaborn as sns"
   ]
  },
  {
   "cell_type": "code",
   "execution_count": null,
   "id": "df67f1de-0973-4118-98a7-6ca71fa97782",
   "metadata": {},
   "outputs": [],
   "source": [
    "ataques_por_pais= shark_13_df.groupby(\"country\")[\"attacks\"].sum()\n",
    "ataques_por_pais"
   ]
  },
  {
   "cell_type": "code",
   "execution_count": null,
   "id": "0175ba0d-2a22-4d7d-af1d-8dd04e5d4ee9",
   "metadata": {},
   "outputs": [],
   "source": [
    "paises_mas_ataques = ataques_por_pais.nlargest(5)\n",
    "paises_mas_ataques"
   ]
  },
  {
   "cell_type": "code",
   "execution_count": null,
   "id": "e48174ee-7030-4e14-846a-101e71a388e8",
   "metadata": {},
   "outputs": [],
   "source": [
    "paises_menos_ataques = ataques_por_pais.nsmallest(5)\n",
    "paises_menos_ataques"
   ]
  },
  {
   "cell_type": "code",
   "execution_count": null,
   "id": "1f480ce2-3f69-418b-98dd-0c29ed2e9f44",
   "metadata": {},
   "outputs": [],
   "source": [
    "len(shark_13_df)"
   ]
  },
  {
   "cell_type": "code",
   "execution_count": null,
   "id": "2c9c499a-285c-4f77-8225-0c6dc53cc3de",
   "metadata": {},
   "outputs": [],
   "source": [
    "import seaborn as sns \n",
    "import matplotlib.pyplot as plt\n",
    "\n",
    "test= shark_13_df.groupby([\"country\",\"seasons\"])[\"attacks\"].sum()\n",
    "test_shorted = test.sort_values(ascending=False).head(10)\n",
    "test_shorted_df = test_shorted.reset_index(drop=False)\n",
    "test_shorted_df"
   ]
  },
  {
   "cell_type": "code",
   "execution_count": null,
   "id": "0852e34d-25c4-4d5d-a782-11deb6a4a862",
   "metadata": {},
   "outputs": [],
   "source": [
    "# Crear el gráfico de barras \n",
    "plt.figure(figsize=(10, 6)) \n",
    "sns.barplot(data=test_shorted_df, x='country', y='attacks', hue='seasons', ci=None) \n",
    "\n",
    "# Personalizar el gráfico \n",
    "plt.title('Top 3 Countries with most Shark Attacks by Season') \n",
    "plt.xlabel('Country') \n",
    "plt.ylabel('Number of Attacks') \n",
    "plt.legend(title='Season') \n",
    "plt.show()"
   ]
  },
  {
   "cell_type": "code",
   "execution_count": null,
   "id": "1dd18290-6ad1-401c-972b-833d5b1919ea",
   "metadata": {},
   "outputs": [],
   "source": [
    "test_1= shark_13_df.groupby([\"country\",\"seasons\"])[\"attacks\"].sum()\n",
    "test_shorted_min= test_1.sort_values(ascending=True).head(15)\n",
    "test_shorted_min_df = test_shorted_min.reset_index(drop=False)\n",
    "test_shorted_min_df"
   ]
  },
  {
   "cell_type": "code",
   "execution_count": null,
   "id": "473141f5-d47f-45f4-bbec-c1715e96b54c",
   "metadata": {},
   "outputs": [],
   "source": [
    "# Suponiendo que ya tienes un DataFrame 'ataques_por_pais'\n",
    "\n",
    "plt.figure(figsize=(10, 6))\n",
    "sns.barplot(data=test_shorted_min_df, x='country', y='attacks', palette='viridis')\n",
    "\n",
    "# Personalizar el gráfico\n",
    "plt.title('Los 5 Países con Menos Ataques de Tiburones')\n",
    "plt.xlabel('País')\n",
    "plt.ylabel('Número de Ataques')\n",
    "plt.xticks(rotation=45)  # Rotar las etiquetas del eje x si es necesario\n",
    "plt.show()"
   ]
  }
 ],
 "metadata": {
  "kernelspec": {
   "display_name": "Python 3 (ipykernel)",
   "language": "python",
   "name": "python3"
  },
  "language_info": {
   "codemirror_mode": {
    "name": "ipython",
    "version": 3
   },
   "file_extension": ".py",
   "mimetype": "text/x-python",
   "name": "python",
   "nbconvert_exporter": "python",
   "pygments_lexer": "ipython3",
   "version": "3.12.4"
  }
 },
 "nbformat": 4,
 "nbformat_minor": 5
}
